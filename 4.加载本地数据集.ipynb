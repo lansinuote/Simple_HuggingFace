{
 "cells": [
  {
   "cell_type": "code",
   "execution_count": 1,
   "id": "6e410c62",
   "metadata": {},
   "outputs": [
    {
     "data": {
      "text/plain": [
       "(Dataset({\n",
       "     features: ['name', 'age', 'teacher'],\n",
       "     num_rows: 2\n",
       " }),\n",
       " {'name': '小王', 'age': 12, 'teacher': '张老师'})"
      ]
     },
     "execution_count": 1,
     "metadata": {},
     "output_type": "execute_result"
    }
   ],
   "source": [
    "from datasets import Dataset\n",
    "\n",
    "#从一个字典创建数据集\n",
    "dataset = {'name': ['小王', '小李'], 'age': [12, 16], 'teacher': ['张老师', '马老师']}\n",
    "\n",
    "dataset = Dataset.from_dict(dataset)\n",
    "\n",
    "dataset, dataset[0]"
   ]
  },
  {
   "cell_type": "code",
   "execution_count": 2,
   "id": "d462b5a8",
   "metadata": {},
   "outputs": [
    {
     "data": {
      "text/plain": [
       "(Dataset({\n",
       "     features: ['name', 'age', 'teacher'],\n",
       "     num_rows: 2\n",
       " }),\n",
       " {'name': '小王', 'age': 12, 'teacher': '张老师'})"
      ]
     },
     "execution_count": 2,
     "metadata": {},
     "output_type": "execute_result"
    }
   ],
   "source": [
    "#使用一个函数生成数据集\n",
    "def f():\n",
    "    yield {'name': '小王', 'age': 12, 'teacher': '张老师'}\n",
    "    yield {'name': '小李', 'age': 16, 'teacher': '马老师'}\n",
    "\n",
    "\n",
    "dataset = Dataset.from_generator(f)\n",
    "\n",
    "dataset, dataset[0]"
   ]
  },
  {
   "cell_type": "code",
   "execution_count": 3,
   "id": "a9a0216c",
   "metadata": {},
   "outputs": [
    {
     "data": {
      "application/vnd.jupyter.widget-view+json": {
       "model_id": "d3f0e1f531474fa280e369091258b71a",
       "version_major": 2,
       "version_minor": 0
      },
      "text/plain": [
       "Creating CSV from Arrow format:   0%|          | 0/1 [00:00<?, ?ba/s]"
      ]
     },
     "metadata": {},
     "output_type": "display_data"
    },
    {
     "data": {
      "application/vnd.jupyter.widget-view+json": {
       "model_id": "ca626f8c6e704d8b97227e3c30a1a81f",
       "version_major": 2,
       "version_minor": 0
      },
      "text/plain": [
       "Generating train split: 0 examples [00:00, ? examples/s]"
      ]
     },
     "metadata": {},
     "output_type": "display_data"
    },
    {
     "data": {
      "text/plain": [
       "(Dataset({\n",
       "     features: ['name', 'age', 'teacher'],\n",
       "     num_rows: 2\n",
       " }),\n",
       " {'name': '小王', 'age': 12, 'teacher': '张老师'})"
      ]
     },
     "execution_count": 3,
     "metadata": {},
     "output_type": "execute_result"
    }
   ],
   "source": [
    "from datasets import load_dataset\n",
    "\n",
    "#保存一个数据集为csv格式\n",
    "dataset.to_csv('dataset/sample.csv')\n",
    "\n",
    "#从csv文件创建数据集\n",
    "dataset = load_dataset('csv', data_files='dataset/sample.csv', split='train')\n",
    "\n",
    "dataset, dataset[0]"
   ]
  },
  {
   "cell_type": "code",
   "execution_count": 4,
   "id": "c1f006c5",
   "metadata": {},
   "outputs": [
    {
     "data": {
      "application/vnd.jupyter.widget-view+json": {
       "model_id": "6b86ffe6e7ca4dac99d02d14cf6e5ddd",
       "version_major": 2,
       "version_minor": 0
      },
      "text/plain": [
       "Creating json from Arrow format:   0%|          | 0/1 [00:00<?, ?ba/s]"
      ]
     },
     "metadata": {},
     "output_type": "display_data"
    },
    {
     "data": {
      "application/vnd.jupyter.widget-view+json": {
       "model_id": "2cb17e8522c442d9ac7c27c46ebd47b6",
       "version_major": 2,
       "version_minor": 0
      },
      "text/plain": [
       "Generating train split: 0 examples [00:00, ? examples/s]"
      ]
     },
     "metadata": {},
     "output_type": "display_data"
    },
    {
     "data": {
      "text/plain": [
       "(Dataset({\n",
       "     features: ['name', 'age', 'teacher'],\n",
       "     num_rows: 2\n",
       " }),\n",
       " {'name': '小王', 'age': 12, 'teacher': '张老师'})"
      ]
     },
     "execution_count": 4,
     "metadata": {},
     "output_type": "execute_result"
    }
   ],
   "source": [
    "from datasets import load_dataset\n",
    "\n",
    "#保存一个数据集为json格式\n",
    "dataset.to_json('dataset/sample.json')\n",
    "\n",
    "#从json文件创建数据集\n",
    "dataset = load_dataset('json', data_files='dataset/sample.json', split='train')\n",
    "\n",
    "dataset, dataset[0]"
   ]
  }
 ],
 "metadata": {
  "kernelspec": {
   "display_name": "Python [conda env:cuda117]",
   "language": "python",
   "name": "conda-env-cuda117-py"
  },
  "language_info": {
   "codemirror_mode": {
    "name": "ipython",
    "version": 3
   },
   "file_extension": ".py",
   "mimetype": "text/x-python",
   "name": "python",
   "nbconvert_exporter": "python",
   "pygments_lexer": "ipython3",
   "version": "3.10.13"
  }
 },
 "nbformat": 4,
 "nbformat_minor": 5
}
