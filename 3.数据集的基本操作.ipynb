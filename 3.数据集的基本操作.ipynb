{
 "cells": [
  {
   "cell_type": "code",
   "execution_count": 1,
   "id": "c0bb5d46",
   "metadata": {},
   "outputs": [
    {
     "data": {
      "text/plain": [
       "(DatasetDict({\n",
       "     train: Dataset({\n",
       "         features: ['text', 'label'],\n",
       "         num_rows: 9600\n",
       "     })\n",
       "     validation: Dataset({\n",
       "         features: ['text', 'label'],\n",
       "         num_rows: 1200\n",
       "     })\n",
       "     test: Dataset({\n",
       "         features: ['text', 'label'],\n",
       "         num_rows: 1200\n",
       "     })\n",
       " }),\n",
       " {'text': '选择珠江花园的原因就是方便，有电动扶梯直接到达海边，周围餐馆、食廊、商场、超市、摊位一应俱全。酒店装修一般，但还算整洁。 泳池在大堂的屋顶，因此很小，不过女儿倒是喜欢。 包的早餐是西式的，还算丰富。 服务吗，一般',\n",
       "  'label': 1})"
      ]
     },
     "execution_count": 1,
     "metadata": {},
     "output_type": "execute_result"
    }
   ],
   "source": [
    "from datasets import load_dataset\n",
    "\n",
    "#可用的数据集:https://huggingface.co/datasets\n",
    "\n",
    "#在线加载一个数据集\n",
    "dataset = load_dataset(path='lansinuote/ChnSentiCorp', name=None, split=None)\n",
    "\n",
    "dataset, dataset['train'][0]"
   ]
  },
  {
   "cell_type": "code",
   "execution_count": 2,
   "id": "8252ba68",
   "metadata": {},
   "outputs": [
    {
     "data": {
      "application/vnd.jupyter.widget-view+json": {
       "model_id": "f09accdbbdf44333b9afb8f528bfbd7e",
       "version_major": 2,
       "version_minor": 0
      },
      "text/plain": [
       "Saving the dataset (0/1 shards):   0%|          | 0/9600 [00:00<?, ? examples/s]"
      ]
     },
     "metadata": {},
     "output_type": "display_data"
    },
    {
     "data": {
      "application/vnd.jupyter.widget-view+json": {
       "model_id": "825a5e7df081430bac31d47f8dea5e72",
       "version_major": 2,
       "version_minor": 0
      },
      "text/plain": [
       "Saving the dataset (0/1 shards):   0%|          | 0/1200 [00:00<?, ? examples/s]"
      ]
     },
     "metadata": {},
     "output_type": "display_data"
    },
    {
     "data": {
      "application/vnd.jupyter.widget-view+json": {
       "model_id": "2e5d1f11b66b44b8be146c013cf3adcf",
       "version_major": 2,
       "version_minor": 0
      },
      "text/plain": [
       "Saving the dataset (0/1 shards):   0%|          | 0/1200 [00:00<?, ? examples/s]"
      ]
     },
     "metadata": {},
     "output_type": "display_data"
    }
   ],
   "source": [
    "#保存到本地\n",
    "dataset.save_to_disk('dataset/lansinuote/ChnSentiCorp')"
   ]
  },
  {
   "cell_type": "code",
   "execution_count": 3,
   "id": "b3ec058a",
   "metadata": {},
   "outputs": [
    {
     "data": {
      "text/plain": [
       "(DatasetDict({\n",
       "     train: Dataset({\n",
       "         features: ['text', 'label'],\n",
       "         num_rows: 9600\n",
       "     })\n",
       "     validation: Dataset({\n",
       "         features: ['text', 'label'],\n",
       "         num_rows: 1200\n",
       "     })\n",
       "     test: Dataset({\n",
       "         features: ['text', 'label'],\n",
       "         num_rows: 1200\n",
       "     })\n",
       " }),\n",
       " {'text': '选择珠江花园的原因就是方便，有电动扶梯直接到达海边，周围餐馆、食廊、商场、超市、摊位一应俱全。酒店装修一般，但还算整洁。 泳池在大堂的屋顶，因此很小，不过女儿倒是喜欢。 包的早餐是西式的，还算丰富。 服务吗，一般',\n",
       "  'label': 1})"
      ]
     },
     "execution_count": 3,
     "metadata": {},
     "output_type": "execute_result"
    }
   ],
   "source": [
    "from datasets import load_from_disk\n",
    "\n",
    "#从本地加载\n",
    "dataset = load_from_disk('dataset/lansinuote/ChnSentiCorp')\n",
    "\n",
    "dataset, dataset['train'][0]"
   ]
  },
  {
   "cell_type": "code",
   "execution_count": 4,
   "id": "276570d5",
   "metadata": {},
   "outputs": [
    {
     "data": {
      "application/vnd.jupyter.widget-view+json": {
       "model_id": "a3bd2ca2cef14f528d58ce728e62f05a",
       "version_major": 2,
       "version_minor": 0
      },
      "text/plain": [
       "Map:   0%|          | 0/9600 [00:00<?, ? examples/s]"
      ]
     },
     "metadata": {},
     "output_type": "display_data"
    },
    {
     "data": {
      "application/vnd.jupyter.widget-view+json": {
       "model_id": "a24889c0af38412588b242d11434ed6c",
       "version_major": 2,
       "version_minor": 0
      },
      "text/plain": [
       "Map:   0%|          | 0/1200 [00:00<?, ? examples/s]"
      ]
     },
     "metadata": {},
     "output_type": "display_data"
    },
    {
     "data": {
      "application/vnd.jupyter.widget-view+json": {
       "model_id": "91aa1931c1d245b882940bff247df886",
       "version_major": 2,
       "version_minor": 0
      },
      "text/plain": [
       "Map:   0%|          | 0/1200 [00:00<?, ? examples/s]"
      ]
     },
     "metadata": {},
     "output_type": "display_data"
    },
    {
     "data": {
      "text/plain": [
       "(DatasetDict({\n",
       "     train: Dataset({\n",
       "         features: ['text', 'new_column'],\n",
       "         num_rows: 9600\n",
       "     })\n",
       "     validation: Dataset({\n",
       "         features: ['text', 'new_column'],\n",
       "         num_rows: 1200\n",
       "     })\n",
       "     test: Dataset({\n",
       "         features: ['text', 'new_column'],\n",
       "         num_rows: 1200\n",
       "     })\n",
       " }),\n",
       " {'text': 'prefix_选择珠江花园的原因就是方便，有电动扶梯直接到达海边，周围餐馆、食廊、商场、超市、摊位一应俱全。酒店装修一般，但还算整洁。 泳池在大堂的屋顶，因此很小，不过女儿倒是喜欢。 包的早餐是西式的，还算丰富。 服务吗，一般',\n",
       "  'new_column': '选择珠江花'})"
      ]
     },
     "execution_count": 4,
     "metadata": {},
     "output_type": "execute_result"
    }
   ],
   "source": [
    "dataset = load_from_disk('dataset/lansinuote/ChnSentiCorp')\n",
    "\n",
    "\n",
    "#遍历每一条数据并进行处理\n",
    "def f(data):\n",
    "    #新增字段\n",
    "    data['new_column'] = data['text'][:5]\n",
    "\n",
    "    #删除字段\n",
    "    del data['label']\n",
    "\n",
    "    #修改字段\n",
    "    data['text'] = 'prefix_' + data['text']\n",
    "\n",
    "    return data\n",
    "\n",
    "\n",
    "dataset = dataset.map(f)\n",
    "\n",
    "dataset, dataset['train'][0]"
   ]
  },
  {
   "cell_type": "code",
   "execution_count": 5,
   "id": "6fb44941",
   "metadata": {},
   "outputs": [
    {
     "data": {
      "application/vnd.jupyter.widget-view+json": {
       "model_id": "db6886675a7349018a2b930ad0b36be5",
       "version_major": 2,
       "version_minor": 0
      },
      "text/plain": [
       "Filter:   0%|          | 0/9600 [00:00<?, ? examples/s]"
      ]
     },
     "metadata": {},
     "output_type": "display_data"
    },
    {
     "data": {
      "application/vnd.jupyter.widget-view+json": {
       "model_id": "5afd6a63de92461ba1dbd2d34119f849",
       "version_major": 2,
       "version_minor": 0
      },
      "text/plain": [
       "Filter:   0%|          | 0/1200 [00:00<?, ? examples/s]"
      ]
     },
     "metadata": {},
     "output_type": "display_data"
    },
    {
     "data": {
      "application/vnd.jupyter.widget-view+json": {
       "model_id": "ca2f3244588e4f048524bd1186f2fa41",
       "version_major": 2,
       "version_minor": 0
      },
      "text/plain": [
       "Filter:   0%|          | 0/1200 [00:00<?, ? examples/s]"
      ]
     },
     "metadata": {},
     "output_type": "display_data"
    },
    {
     "data": {
      "text/plain": [
       "(DatasetDict({\n",
       "     train: Dataset({\n",
       "         features: ['text', 'label'],\n",
       "         num_rows: 4799\n",
       "     })\n",
       "     validation: Dataset({\n",
       "         features: ['text', 'label'],\n",
       "         num_rows: 593\n",
       "     })\n",
       "     test: Dataset({\n",
       "         features: ['text', 'label'],\n",
       "         num_rows: 608\n",
       "     })\n",
       " }),\n",
       " {'text': '选择珠江花园的原因就是方便，有电动扶梯直接到达海边，周围餐馆、食廊、商场、超市、摊位一应俱全。酒店装修一般，但还算整洁。 泳池在大堂的屋顶，因此很小，不过女儿倒是喜欢。 包的早餐是西式的，还算丰富。 服务吗，一般',\n",
       "  'label': 1})"
      ]
     },
     "execution_count": 5,
     "metadata": {},
     "output_type": "execute_result"
    }
   ],
   "source": [
    "dataset = load_from_disk('dataset/lansinuote/ChnSentiCorp')\n",
    "\n",
    "#过滤数据集\n",
    "f = lambda x: x['label'] == 1\n",
    "\n",
    "dataset = dataset.filter(f)\n",
    "\n",
    "dataset, dataset['train'][0]"
   ]
  },
  {
   "cell_type": "code",
   "execution_count": 6,
   "id": "9605eb05",
   "metadata": {},
   "outputs": [
    {
     "data": {
      "application/vnd.jupyter.widget-view+json": {
       "model_id": "572418b6e9c642cfb000fd704c6aae12",
       "version_major": 2,
       "version_minor": 0
      },
      "text/plain": [
       "Map (num_proc=2):   0%|          | 0/9600 [00:00<?, ? examples/s]"
      ]
     },
     "metadata": {},
     "output_type": "display_data"
    },
    {
     "data": {
      "application/vnd.jupyter.widget-view+json": {
       "model_id": "ef2dcec408224d9ab156b64f4c83c505",
       "version_major": 2,
       "version_minor": 0
      },
      "text/plain": [
       "Map (num_proc=2):   0%|          | 0/1200 [00:00<?, ? examples/s]"
      ]
     },
     "metadata": {},
     "output_type": "display_data"
    },
    {
     "data": {
      "application/vnd.jupyter.widget-view+json": {
       "model_id": "6f61868977c642789ad91532bb53bb00",
       "version_major": 2,
       "version_minor": 0
      },
      "text/plain": [
       "Map (num_proc=2):   0%|          | 0/1200 [00:00<?, ? examples/s]"
      ]
     },
     "metadata": {},
     "output_type": "display_data"
    },
    {
     "data": {
      "text/plain": [
       "(DatasetDict({\n",
       "     train: Dataset({\n",
       "         features: ['text', 'label', 'new_column'],\n",
       "         num_rows: 9600\n",
       "     })\n",
       "     validation: Dataset({\n",
       "         features: ['text', 'label', 'new_column'],\n",
       "         num_rows: 1200\n",
       "     })\n",
       "     test: Dataset({\n",
       "         features: ['text', 'label', 'new_column'],\n",
       "         num_rows: 1200\n",
       "     })\n",
       " }),\n",
       " {'text': '选择珠江花园的原因就是方便，有电动扶梯直接到达海边，周围餐馆、食廊、商场、超市、摊位一应俱全。酒店装修一般，但还算整洁。 泳池在大堂的屋顶，因此很小，不过女儿倒是喜欢。 包的早餐是西式的，还算丰富。 服务吗，一般',\n",
       "  'label': 1,\n",
       "  'new_column': '选择珠江花'})"
      ]
     },
     "execution_count": 6,
     "metadata": {},
     "output_type": "execute_result"
    }
   ],
   "source": [
    "dataset = load_from_disk('dataset/lansinuote/ChnSentiCorp')\n",
    "\n",
    "\n",
    "#map和filter时可以使用批量处理,同时使用多线程并行处理\n",
    "#在某些环境下使用多线程会卡住,出现这种情况时请切换到单线程,num_proc=1\n",
    "def f(data):\n",
    "    data['new_column'] = [i[:5] for i in data['text']]\n",
    "    return data\n",
    "\n",
    "\n",
    "dataset = dataset.map(f, batched=True, batch_size=5, num_proc=2)\n",
    "\n",
    "dataset, dataset['train'][0]"
   ]
  },
  {
   "cell_type": "code",
   "execution_count": 7,
   "id": "ef2cbcb7",
   "metadata": {},
   "outputs": [
    {
     "data": {
      "text/plain": [
       "(DatasetDict({\n",
       "     train: Dataset({\n",
       "         features: ['text'],\n",
       "         num_rows: 9600\n",
       "     })\n",
       "     validation: Dataset({\n",
       "         features: ['text'],\n",
       "         num_rows: 1200\n",
       "     })\n",
       "     test: Dataset({\n",
       "         features: ['text'],\n",
       "         num_rows: 1200\n",
       "     })\n",
       " }),\n",
       " {'text': '选择珠江花园的原因就是方便，有电动扶梯直接到达海边，周围餐馆、食廊、商场、超市、摊位一应俱全。酒店装修一般，但还算整洁。 泳池在大堂的屋顶，因此很小，不过女儿倒是喜欢。 包的早餐是西式的，还算丰富。 服务吗，一般'})"
      ]
     },
     "execution_count": 7,
     "metadata": {},
     "output_type": "execute_result"
    }
   ],
   "source": [
    "dataset = load_from_disk('dataset/lansinuote/ChnSentiCorp')\n",
    "\n",
    "#删除字段\n",
    "dataset = dataset.remove_columns(['label'])\n",
    "\n",
    "dataset, dataset['train'][0]"
   ]
  },
  {
   "cell_type": "code",
   "execution_count": 8,
   "id": "ddf685fb",
   "metadata": {},
   "outputs": [
    {
     "data": {
      "text/plain": [
       "(DatasetDict({\n",
       "     train: Dataset({\n",
       "         features: ['new_text', 'new_label'],\n",
       "         num_rows: 9600\n",
       "     })\n",
       "     validation: Dataset({\n",
       "         features: ['new_text', 'new_label'],\n",
       "         num_rows: 1200\n",
       "     })\n",
       "     test: Dataset({\n",
       "         features: ['new_text', 'new_label'],\n",
       "         num_rows: 1200\n",
       "     })\n",
       " }),\n",
       " {'new_text': '选择珠江花园的原因就是方便，有电动扶梯直接到达海边，周围餐馆、食廊、商场、超市、摊位一应俱全。酒店装修一般，但还算整洁。 泳池在大堂的屋顶，因此很小，不过女儿倒是喜欢。 包的早餐是西式的，还算丰富。 服务吗，一般',\n",
       "  'new_label': 1})"
      ]
     },
     "execution_count": 8,
     "metadata": {},
     "output_type": "execute_result"
    }
   ],
   "source": [
    "dataset = load_from_disk('dataset/lansinuote/ChnSentiCorp')\n",
    "\n",
    "#重命名字段\n",
    "dataset = dataset.rename_columns({'text': 'new_text', 'label': 'new_label'})\n",
    "\n",
    "dataset, dataset['train'][0]"
   ]
  },
  {
   "cell_type": "code",
   "execution_count": 9,
   "id": "82088f39",
   "metadata": {},
   "outputs": [
    {
     "data": {
      "text/plain": [
       "(DatasetDict({\n",
       "     train: Dataset({\n",
       "         features: ['text', 'label'],\n",
       "         num_rows: 9600\n",
       "     })\n",
       "     validation: Dataset({\n",
       "         features: ['text', 'label'],\n",
       "         num_rows: 1200\n",
       "     })\n",
       "     test: Dataset({\n",
       "         features: ['text', 'label'],\n",
       "         num_rows: 1200\n",
       "     })\n",
       " }),\n",
       " {'label': tensor(1),\n",
       "  'text': '选择珠江花园的原因就是方便，有电动扶梯直接到达海边，周围餐馆、食廊、商场、超市、摊位一应俱全。酒店装修一般，但还算整洁。 泳池在大堂的屋顶，因此很小，不过女儿倒是喜欢。 包的早餐是西式的，还算丰富。 服务吗，一般'})"
      ]
     },
     "execution_count": 9,
     "metadata": {},
     "output_type": "execute_result"
    }
   ],
   "source": [
    "dataset = load_from_disk('dataset/lansinuote/ChnSentiCorp')\n",
    "\n",
    "#设置字段的数据类型,可选的有np,pt,tf\n",
    "dataset.set_format('pt', columns=['label'], output_all_columns=True)\n",
    "\n",
    "dataset, dataset['train'][0]"
   ]
  },
  {
   "cell_type": "code",
   "execution_count": 10,
   "id": "b153ebc1",
   "metadata": {},
   "outputs": [
    {
     "data": {
      "text/plain": [
       "(Dataset({\n",
       "     features: ['text', 'label'],\n",
       "     num_rows: 12000\n",
       " }),\n",
       " {'text': '选择珠江花园的原因就是方便，有电动扶梯直接到达海边，周围餐馆、食廊、商场、超市、摊位一应俱全。酒店装修一般，但还算整洁。 泳池在大堂的屋顶，因此很小，不过女儿倒是喜欢。 包的早餐是西式的，还算丰富。 服务吗，一般',\n",
       "  'label': 1})"
      ]
     },
     "execution_count": 10,
     "metadata": {},
     "output_type": "execute_result"
    }
   ],
   "source": [
    "from datasets import concatenate_datasets\n",
    "\n",
    "dataset = load_from_disk('dataset/lansinuote/ChnSentiCorp')\n",
    "\n",
    "#合并多个数据集\n",
    "dataset = concatenate_datasets(list(dataset.values()))\n",
    "\n",
    "dataset, dataset[0]"
   ]
  },
  {
   "cell_type": "code",
   "execution_count": 11,
   "id": "8e444583",
   "metadata": {},
   "outputs": [
    {
     "data": {
      "text/plain": [
       "(DatasetDict({\n",
       "     train: Dataset({\n",
       "         features: ['text', 'label'],\n",
       "         num_rows: 8640\n",
       "     })\n",
       "     test: Dataset({\n",
       "         features: ['text', 'label'],\n",
       "         num_rows: 960\n",
       "     })\n",
       " }),\n",
       " {'text': '我先前是从一本育儿杂志上知道有这本书的，看后发现它针对的是上中学的孩子和父母，但我认为作为家长早看比晚看要好，而且从这本书的介绍我进一步了解了徐小平和他的几本不错的书以及他的职业观念。这本书的重要之处我认为不是讲了几个故事，而是它能让你认识自己对孩子未来认识的不足，改正父母的观念，以期和孩子一起打造美好的未来。不错，值得一看，要是换成徐小平的文笔就更好了。',\n",
       "  'label': 1})"
      ]
     },
     "execution_count": 11,
     "metadata": {},
     "output_type": "execute_result"
    }
   ],
   "source": [
    "dataset = load_from_disk('dataset/lansinuote/ChnSentiCorp')\n",
    "\n",
    "#切分一个数据集为训练集和测试机,可以指定比例,也可以直接指定数量\n",
    "dataset = dataset['train'].train_test_split(test_size=0.1, train_size=8640)\n",
    "\n",
    "dataset, dataset['train'][0]"
   ]
  },
  {
   "cell_type": "code",
   "execution_count": 12,
   "id": "c1bf08bb",
   "metadata": {},
   "outputs": [
    {
     "data": {
      "text/plain": [
       "(Dataset({\n",
       "     features: ['text', 'label'],\n",
       "     num_rows: 4\n",
       " }),\n",
       " {'text': '机器背面似乎被撕了张什么标签，残胶还在。但是又看不出是什么标签不见了，该有的都在，怪', 'label': 0})"
      ]
     },
     "execution_count": 12,
     "metadata": {},
     "output_type": "execute_result"
    }
   ],
   "source": [
    "dataset = load_from_disk('dataset/lansinuote/ChnSentiCorp')\n",
    "\n",
    "#取数据集中的某些数据\n",
    "dataset = dataset['train'].select([5, 15, 20, 50])\n",
    "\n",
    "dataset, dataset[0]"
   ]
  }
 ],
 "metadata": {
  "kernelspec": {
   "display_name": "Python [conda env:cuda117]",
   "language": "python",
   "name": "conda-env-cuda117-py"
  },
  "language_info": {
   "codemirror_mode": {
    "name": "ipython",
    "version": 3
   },
   "file_extension": ".py",
   "mimetype": "text/x-python",
   "name": "python",
   "nbconvert_exporter": "python",
   "pygments_lexer": "ipython3",
   "version": "3.10.13"
  }
 },
 "nbformat": 4,
 "nbformat_minor": 5
}
