{
 "cells": [
  {
   "cell_type": "code",
   "execution_count": 1,
   "id": "1cb0f1f0",
   "metadata": {},
   "outputs": [
    {
     "data": {
      "text/plain": [
       "('4.42.3', '2.20.0', '0.23.4')"
      ]
     },
     "execution_count": 1,
     "metadata": {},
     "output_type": "execute_result"
    }
   ],
   "source": [
    "#pip install transformers\n",
    "#pip install datasets\n",
    "#pip install huggingface_hub\n",
    "\n",
    "import transformers\n",
    "import datasets\n",
    "import huggingface_hub\n",
    "\n",
    "transformers.__version__, datasets.__version__, huggingface_hub.__version__"
   ]
  },
  {
   "cell_type": "code",
   "execution_count": 2,
   "id": "732c2f2f",
   "metadata": {},
   "outputs": [],
   "source": [
    "#没有科学方法的,可以使用国内的镜像:https://hf-mirror.com/\n",
    "\n",
    "#下载bert中文模型,后面的课程要用\n",
    "#huggingface-cli download --resume-download google-bert/bert-base-chinese"
   ]
  }
 ],
 "metadata": {
  "kernelspec": {
   "display_name": "Python [conda env:cuda117]",
   "language": "python",
   "name": "conda-env-cuda117-py"
  },
  "language_info": {
   "codemirror_mode": {
    "name": "ipython",
    "version": 3
   },
   "file_extension": ".py",
   "mimetype": "text/x-python",
   "name": "python",
   "nbconvert_exporter": "python",
   "pygments_lexer": "ipython3",
   "version": "3.10.13"
  }
 },
 "nbformat": 4,
 "nbformat_minor": 5
}
